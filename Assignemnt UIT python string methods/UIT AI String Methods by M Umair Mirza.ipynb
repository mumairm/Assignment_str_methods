{
 "cells": [
  {
   "cell_type": "markdown",
   "metadata": {},
   "source": [
    "# String Methods"
   ]
  },
  {
   "cell_type": "markdown",
   "metadata": {},
   "source": [
    "Capitalize"
   ]
  },
  {
   "cell_type": "code",
   "execution_count": 3,
   "metadata": {},
   "outputs": [
    {
     "name": "stdout",
     "output_type": "stream",
     "text": [
      "M umair mirza\n"
     ]
    }
   ],
   "source": [
    "# this command will capitalize only the first words/letter of the strings\n",
    "a = \"m umair mirza\"\n",
    "print(a.capitalize())"
   ]
  },
  {
   "cell_type": "markdown",
   "metadata": {},
   "source": [
    "casefold"
   ]
  },
  {
   "cell_type": "code",
   "execution_count": 7,
   "metadata": {},
   "outputs": [
    {
     "name": "stdout",
     "output_type": "stream",
     "text": [
      " m umair mirza\n"
     ]
    }
   ],
   "source": [
    "# this command will casefold or change the capitalized in to non capitalized the string string\n",
    "b = \" M UMAIR MIRZA\"\n",
    "print(b.casefold())"
   ]
  },
  {
   "cell_type": "markdown",
   "metadata": {},
   "source": [
    "center"
   ]
  },
  {
   "cell_type": "code",
   "execution_count": 8,
   "metadata": {},
   "outputs": [
    {
     "name": "stdout",
     "output_type": "stream",
     "text": [
      "*******Umair********\n"
     ]
    }
   ],
   "source": [
    "# this command will return the string in  center of character defined\n",
    "c = \"Umair\"\n",
    "d = c.center(20, \"*\")\n",
    "print(d)"
   ]
  },
  {
   "cell_type": "markdown",
   "metadata": {},
   "source": [
    "count"
   ]
  },
  {
   "cell_type": "code",
   "execution_count": 9,
   "metadata": {},
   "outputs": [
    {
     "name": "stdout",
     "output_type": "stream",
     "text": [
      "9\n",
      "1\n",
      "4\n",
      "2\n",
      "4\n",
      "4\n"
     ]
    }
   ],
   "source": [
    "# this command will reuturn the numners of string occring in a range defined\n",
    "e = \"Fooood is awwwwsooooome\"\n",
    "print(e.count(\"o\"))\n",
    "print(e.count(\"i\"))\n",
    "print(e.count(\"w\"))\n",
    "print(e.count(\" \"))\n",
    "print(e.count(\"o\",1,6))\n",
    "print(e.count(\"w\",10,15))\n"
   ]
  },
  {
   "cell_type": "markdown",
   "metadata": {},
   "source": [
    "encode"
   ]
  },
  {
   "cell_type": "code",
   "execution_count": 10,
   "metadata": {},
   "outputs": [
    {
     "name": "stdout",
     "output_type": "stream",
     "text": [
      "Umair\n",
      "b'VW1haXI='\n"
     ]
    }
   ],
   "source": [
    "# this command returns encoded version of the sring\n",
    "from base64 import b64encode\n",
    "f = \"Umair\"\n",
    "print(f)\n",
    "\n",
    "f = b64encode(f.encode())\n",
    "print(f)"
   ]
  },
  {
   "cell_type": "markdown",
   "metadata": {},
   "source": [
    "endwidth"
   ]
  },
  {
   "cell_type": "code",
   "execution_count": 12,
   "metadata": {},
   "outputs": [
    {
     "name": "stdout",
     "output_type": "stream",
     "text": [
      "True\n",
      "False\n",
      "True\n",
      "True\n",
      "False\n"
     ]
    }
   ],
   "source": [
    "# this commands tell if the sring with the suffix specified or not, if yesm true if not false\n",
    "g = \"Umair\"\n",
    "print(g.endswith(\"r\"))\n",
    "print(g.endswith(\"i\"))\n",
    "print(g.endswith(\"air\"))\n",
    "print(g.endswith(\"ir\", 3,5))\n",
    "print(g.endswith(\"ir\", 2,4))"
   ]
  },
  {
   "cell_type": "markdown",
   "metadata": {},
   "source": [
    "expandtabs"
   ]
  },
  {
   "cell_type": "code",
   "execution_count": 17,
   "metadata": {},
   "outputs": [
    {
     "name": "stdout",
     "output_type": "stream",
     "text": [
      "u\tm\ta\ti\tr\n",
      "u       m       a       i       r\n",
      "u                 m                 a                 i                 r\n",
      "u m a i r\n"
     ]
    }
   ],
   "source": [
    "# this command return the string with the tab/space in it and the valus of tab is specified\n",
    "h = \"u\\tm\\ta\\ti\\tr\"\n",
    "print(h)\n",
    "print(h.expandtabs())\n",
    "print(h.expandtabs(tabsize=18))\n",
    "print(h.expandtabs(tabsize=2))"
   ]
  },
  {
   "cell_type": "markdown",
   "metadata": {},
   "source": [
    "find"
   ]
  },
  {
   "cell_type": "code",
   "execution_count": 20,
   "metadata": {},
   "outputs": [
    {
     "name": "stdout",
     "output_type": "stream",
     "text": [
      "0\n",
      "-1\n",
      "3\n",
      "5\n",
      "6\n",
      "-1\n",
      "-1\n"
     ]
    }
   ],
   "source": [
    "# this command find the stirg letter and return with the index number\n",
    "i = \"Pakistan\"\n",
    "print(i.find(\"P\"))\n",
    "print(i.find(\"p\"))\n",
    "print(i.find(\"i\"))\n",
    "print(i.find(\"tan\"))\n",
    "print(i.find(\"an\"))\n",
    "print(i.find(\"z\"))\n",
    "print(i.find(\"Home\"))"
   ]
  },
  {
   "cell_type": "markdown",
   "metadata": {},
   "source": [
    "format"
   ]
  },
  {
   "cell_type": "code",
   "execution_count": 23,
   "metadata": {},
   "outputs": [
    {
     "name": "stdout",
     "output_type": "stream",
     "text": [
      "Tea and Coffee\n",
      "Coffee and Tea\n",
      "Peas and Beans\n",
      "1, 2,3\n",
      "Lunch: Pizza,Wine\n"
     ]
    }
   ],
   "source": [
    "# this command will replace or add the value in the {} field\n",
    "\n",
    "print(\"{} and {}\".format(\"Tea\",\"Coffee\"))\n",
    "\n",
    "print(\"{1} and {0}\".format(\"Tea\",\"Coffee\"))\n",
    "\n",
    "print(\"{lunch} and {dinner}\".format(lunch=\"Peas\",dinner=\"Beans\"))\n",
    "\n",
    "print(\"{0}, {1},{2}\".format(*\"123\"))\n",
    "\n",
    "lunch = {\"food\": \"Pizza\", \"drink\":\"Wine\"}\n",
    "print(\"Lunch: {food},{drink}\".format(**lunch))"
   ]
  },
  {
   "cell_type": "markdown",
   "metadata": {},
   "source": [
    "format_map"
   ]
  },
  {
   "cell_type": "code",
   "execution_count": 26,
   "metadata": {},
   "outputs": [
    {
     "name": "stdout",
     "output_type": "stream",
     "text": [
      "Lunch: Pizza,Wine\n",
      "Lunch: Pizza,Drink\n",
      "Lunch: Food,Wine\n"
     ]
    }
   ],
   "source": [
    "# this is similiar to format , in this the mapping is done directly not in the dictionary\n",
    "\n",
    "lunch = {\"Food\": \"Pizza\", \"Drink\":\"Wine\"}\n",
    "print(\"Lunch: {Food},{Drink}\".format_map(lunch))\n",
    "\n",
    "class Default(dict):\n",
    "    def __missing__(self, key):\n",
    "        return key\n",
    "lunch = {\"Food\": \"Pizza\"}\n",
    "print(\"Lunch: {Food},{Drink}\".format_map(Default(lunch)))\n",
    "lunch = {\"Drink\": \"Wine\"}\n",
    "print(\"Lunch: {Food},{Drink}\".format_map(Default(lunch)))\n"
   ]
  },
  {
   "cell_type": "markdown",
   "metadata": {},
   "source": [
    "index"
   ]
  },
  {
   "cell_type": "code",
   "execution_count": 34,
   "metadata": {},
   "outputs": [
    {
     "name": "stdout",
     "output_type": "stream",
     "text": [
      "0\n",
      "3\n",
      "5\n",
      "6\n"
     ]
    },
    {
     "ename": "ValueError",
     "evalue": "substring not found",
     "output_type": "error",
     "traceback": [
      "\u001b[1;31m---------------------------------------------------------------------------\u001b[0m",
      "\u001b[1;31mValueError\u001b[0m                                Traceback (most recent call last)",
      "\u001b[1;32m<ipython-input-34-c21d25cce39e>\u001b[0m in \u001b[0;36m<module>\u001b[1;34m()\u001b[0m\n\u001b[0;32m      5\u001b[0m \u001b[0mprint\u001b[0m\u001b[1;33m(\u001b[0m\u001b[0mj\u001b[0m\u001b[1;33m.\u001b[0m\u001b[0mindex\u001b[0m\u001b[1;33m(\u001b[0m\u001b[1;34m\"tan\"\u001b[0m\u001b[1;33m)\u001b[0m\u001b[1;33m)\u001b[0m\u001b[1;33m\u001b[0m\u001b[0m\n\u001b[0;32m      6\u001b[0m \u001b[0mprint\u001b[0m\u001b[1;33m(\u001b[0m\u001b[0mj\u001b[0m\u001b[1;33m.\u001b[0m\u001b[0mindex\u001b[0m\u001b[1;33m(\u001b[0m\u001b[1;34m\"an\"\u001b[0m\u001b[1;33m)\u001b[0m\u001b[1;33m)\u001b[0m\u001b[1;33m\u001b[0m\u001b[0m\n\u001b[1;32m----> 7\u001b[1;33m \u001b[0mprint\u001b[0m\u001b[1;33m(\u001b[0m\u001b[0mj\u001b[0m\u001b[1;33m.\u001b[0m\u001b[0mindex\u001b[0m\u001b[1;33m(\u001b[0m\u001b[1;34m\"z\"\u001b[0m\u001b[1;33m)\u001b[0m\u001b[1;33m)\u001b[0m    \u001b[1;31m#error\u001b[0m\u001b[1;33m\u001b[0m\u001b[0m\n\u001b[0m",
      "\u001b[1;31mValueError\u001b[0m: substring not found"
     ]
    }
   ],
   "source": [
    "# it is like find but the only didfference is that, find return -1 if not found but here it will retrn on the error\n",
    "j =  \"Pakistan\"\n",
    "print(j.index(\"P\"))\n",
    "print(j.index(\"i\"))\n",
    "print(j.index(\"tan\"))\n",
    "print(j.index(\"an\"))\n",
    "print(j.index(\"z\"))    #error\n",
    "\n"
   ]
  },
  {
   "cell_type": "markdown",
   "metadata": {},
   "source": [
    "isalnum"
   ]
  },
  {
   "cell_type": "code",
   "execution_count": 38,
   "metadata": {},
   "outputs": [
    {
     "name": "stdout",
     "output_type": "stream",
     "text": [
      "True\n",
      "True\n",
      "False\n",
      "False\n"
     ]
    }
   ],
   "source": [
    "# this command will tell the stirng contains the alpha numneric or not, if all are alpha numneric than it will display true and if not it will display false\n",
    "k = \"Umair\"\n",
    "print(k.isalnum())\n",
    "\n",
    "k = \"Umair123\"\n",
    "print(k.isalnum())\n",
    "\n",
    "k = \"Umair Mirza\"\n",
    "print(k.isalnum())\n",
    "\n",
    "k = \"@#$%\"\n",
    "print(k.isalnum())\n",
    "\n"
   ]
  },
  {
   "cell_type": "markdown",
   "metadata": {},
   "source": [
    "isalpha"
   ]
  },
  {
   "cell_type": "code",
   "execution_count": 43,
   "metadata": {},
   "outputs": [
    {
     "name": "stdout",
     "output_type": "stream",
     "text": [
      "True\n",
      "False\n",
      "False\n",
      "False\n"
     ]
    }
   ],
   "source": [
    "# it will return true if all strings are alpha\n",
    "\n",
    "l = \"Umair\"\n",
    "print(l.isalpha())\n",
    "\n",
    "l = \"Umair123\"\n",
    "print(l.isalpha())\n",
    "\n",
    "l = \"Umair Mirza\"\n",
    "print(l.isalpha())\n",
    "\n",
    "l = \"@#$%\"\n",
    "print(l.isalpha())"
   ]
  },
  {
   "cell_type": "markdown",
   "metadata": {},
   "source": [
    "isdecimal"
   ]
  },
  {
   "cell_type": "code",
   "execution_count": 46,
   "metadata": {},
   "outputs": [
    {
     "name": "stdout",
     "output_type": "stream",
     "text": [
      "True\n",
      "False\n",
      "False\n",
      "False\n"
     ]
    }
   ],
   "source": [
    "# it will return true if all stings are characters\n",
    "m = \"123\"\n",
    "print(m.isdecimal())\n",
    "\n",
    "m = \"123@44\"\n",
    "print(m.isdecimal())\n",
    "\n",
    "m = \"13.23\"\n",
    "print(m.isdecimal())\n",
    "\n",
    "m = \"Umair\"\n",
    "print(m.isdecimal())"
   ]
  },
  {
   "cell_type": "markdown",
   "metadata": {},
   "source": [
    "isdigit"
   ]
  },
  {
   "cell_type": "code",
   "execution_count": 47,
   "metadata": {},
   "outputs": [
    {
     "name": "stdout",
     "output_type": "stream",
     "text": [
      "True\n",
      "True\n",
      "False\n",
      "False\n",
      "False\n",
      "False\n"
     ]
    }
   ],
   "source": [
    "# it will return  true if there is atleast on character\n",
    "\n",
    "n = \"123\"\n",
    "print(n.isdigit())\n",
    "\n",
    "n = u\"\\u00B2\"\n",
    "print(n.isdigit())\n",
    "\n",
    "n = \"1.23\"\n",
    "print(n.isdigit())\n",
    "\n",
    "n = \"u123\"\n",
    "print(n.isdigit())\n",
    "\n",
    "n = \"Uamir\"\n",
    "print(n.isdigit())\n",
    "\n",
    "n = \"$*%!!!\"\n",
    "print(n.isdigit())"
   ]
  },
  {
   "cell_type": "markdown",
   "metadata": {},
   "source": [
    "isidentifier"
   ]
  },
  {
   "cell_type": "code",
   "execution_count": 56,
   "metadata": {},
   "outputs": [
    {
     "name": "stdout",
     "output_type": "stream",
     "text": [
      "False\n",
      "True\n",
      "False\n",
      "True\n",
      "False\n",
      "True\n"
     ]
    }
   ],
   "source": [
    "# it will return true if the string is a valid identifier \n",
    "\n",
    "o = \"123\"\n",
    "print(o.isidentifier())\n",
    "\n",
    "o = \"_user_123\"\n",
    "print(o.isidentifier())\n",
    "\n",
    "o = \"_user-123\"\n",
    "print(o.isidentifier())\n",
    "\n",
    "o = \"Homer1\"\n",
    "print(o.isidentifier())\n",
    "\n",
    "o = \"1for\"\n",
    "print(o.isidentifier())\n",
    "\n",
    "o = \"for\"\n",
    "print(o.isidentifier())"
   ]
  },
  {
   "cell_type": "markdown",
   "metadata": {},
   "source": [
    "islower"
   ]
  },
  {
   "cell_type": "code",
   "execution_count": 62,
   "metadata": {},
   "outputs": [
    {
     "name": "stdout",
     "output_type": "stream",
     "text": [
      "False\n",
      "False\n",
      "True\n",
      "False\n",
      "False\n",
      "True\n"
     ]
    }
   ],
   "source": [
    "# it will return true if all the character in the string are lower case and return false otherwise\n",
    "\n",
    "p = \" \"\n",
    "print(p.islower())\n",
    "\n",
    "p = \"123\"\n",
    "print(p.islower())\n",
    "\n",
    "p = \"_user_123\"\n",
    "print(p.islower())\n",
    "\n",
    "p = \"Home\"\n",
    "print(p.islower())\n",
    "\n",
    "p = \"HOME\"\n",
    "print(p.islower())\n",
    "\n",
    "p = \"home\"\n",
    "print(p.islower())\n",
    "\n"
   ]
  },
  {
   "cell_type": "markdown",
   "metadata": {},
   "source": [
    "isnumeric"
   ]
  },
  {
   "cell_type": "code",
   "execution_count": 74,
   "metadata": {},
   "outputs": [
    {
     "name": "stdout",
     "output_type": "stream",
     "text": [
      "True\n",
      "True\n",
      "False\n",
      "False\n",
      "False\n",
      "False\n"
     ]
    }
   ],
   "source": [
    "# it will return true if all or atleast onr of the character in string are numeric\n",
    "\n",
    "q = \"123\"\n",
    "print(q.isnumeric())\n",
    "\n",
    "q = u\"\\u00B2\"\n",
    "print(q.isnumeric())     # how????\n",
    "\n",
    "q = \"1.23\"    # . is not numneric\n",
    "print(q.isnumeric())\n",
    "\n",
    "q = \"u123\"\n",
    "print(q.isnumeric())\n",
    "\n",
    "q = \"Umair\"\n",
    "print(q.isnumeric())\n",
    "\n",
    "q = \"$*%!!!\"\n",
    "print(c.isnumeric())"
   ]
  },
  {
   "cell_type": "markdown",
   "metadata": {},
   "source": [
    "isprintable"
   ]
  },
  {
   "cell_type": "code",
   "execution_count": 77,
   "metadata": {},
   "outputs": [
    {
     "name": "stdout",
     "output_type": "stream",
     "text": [
      "True\n",
      "True\n",
      "True\n",
      "False\n",
      "False\n"
     ]
    }
   ],
   "source": [
    "#return true if all the string are printable or string is empty\n",
    "\n",
    "r = \"\"\n",
    "print(r.isprintable())\n",
    "\n",
    "r = \" \"\n",
    "print(r.isprintable())\n",
    "\n",
    "r = \"Umair\"\n",
    "print(r.isprintable())\n",
    "\n",
    "r = \"\\t\"\n",
    "print(r.isprintable())\n",
    "\n",
    "r = \"Umair \\t\"\n",
    "print(r.isprintable())"
   ]
  },
  {
   "cell_type": "markdown",
   "metadata": {},
   "source": [
    "isspace"
   ]
  },
  {
   "cell_type": "code",
   "execution_count": 82,
   "metadata": {},
   "outputs": [
    {
     "name": "stdout",
     "output_type": "stream",
     "text": [
      "False\n",
      "True\n",
      "False\n",
      "True\n"
     ]
    }
   ],
   "source": [
    "# it wil return true of there are only whcitepspace character in the spring\n",
    "s = \"\"\n",
    "print(s.isspace())\n",
    "\n",
    "s = \" \"\n",
    "print(s.isspace())\n",
    "\n",
    "s = \"Umair\"\n",
    "print(s.isspace())\n",
    "\n",
    "s = \"\\t\"\n",
    "print(s.isspace())"
   ]
  },
  {
   "cell_type": "markdown",
   "metadata": {},
   "source": [
    "istitle"
   ]
  },
  {
   "cell_type": "code",
   "execution_count": 83,
   "metadata": {},
   "outputs": [
    {
     "name": "stdout",
     "output_type": "stream",
     "text": [
      "False\n",
      "False\n",
      "False\n",
      "True\n",
      "True\n",
      "False\n",
      "True\n",
      "True\n"
     ]
    }
   ],
   "source": [
    "# it will tell if   the first letter of the word is capitalize or not\n",
    "t = \"\"\n",
    "print(t.istitle())\n",
    "t = \" \"\n",
    "print(t.istitle())\n",
    "t = \" t\"\n",
    "print(t.istitle())\n",
    "t = \" T\"\n",
    "print(t.istitle())\n",
    "t = \"Tea\"\n",
    "print(t.istitle())\n",
    "t = \"Tea and Coffee\"\n",
    "print(t.istitle())\n",
    "t = \"Tea And Coffee\"\n",
    "print(t.istitle())\n",
    "t = \"1. Tea & Coffee \\r\"\n",
    "print(t.istitle())"
   ]
  },
  {
   "cell_type": "markdown",
   "metadata": {},
   "source": [
    "isupper\n"
   ]
  },
  {
   "cell_type": "code",
   "execution_count": 84,
   "metadata": {},
   "outputs": [
    {
     "name": "stdout",
     "output_type": "stream",
     "text": [
      "False\n",
      "False\n",
      "True\n",
      "False\n",
      "True\n",
      "False\n"
     ]
    }
   ],
   "source": [
    "# return true if all the letters are upper case\n",
    "u = \" \"\n",
    "print(u.isupper())\n",
    "u = \"123\"\n",
    "print(u.isupper())\n",
    "u = \"_USER_123\"\n",
    "print(u.isupper())\n",
    "u = \"Home\"\n",
    "print(u.isupper())\n",
    "u = \"HOME\"\n",
    "print(u.isupper())\n",
    "u = \"home\"\n",
    "print(u.isupper())"
   ]
  },
  {
   "cell_type": "markdown",
   "metadata": {},
   "source": [
    "join"
   ]
  },
  {
   "cell_type": "code",
   "execution_count": 7,
   "metadata": {},
   "outputs": [
    {
     "name": "stdout",
     "output_type": "stream",
     "text": [
      "1-2-3\n",
      "U*m*a*i*r\n",
      "Umair.Mirza\n"
     ]
    }
   ],
   "source": [
    "# it will return a string by concatenating the non string which will shown error if added directly\n",
    "\n",
    "v = \"-\"\n",
    "print(v.join(\"123\"))\n",
    "\n",
    "v = \"*\"\n",
    "print(v.join(\"Umair\"))\n",
    "\n",
    "v = \".\"\n",
    "print(v.join((\"Umair\",\"Mirza\")))\n",
    "\n"
   ]
  },
  {
   "cell_type": "markdown",
   "metadata": {},
   "source": [
    "ljust"
   ]
  },
  {
   "cell_type": "code",
   "execution_count": 11,
   "metadata": {},
   "outputs": [
    {
     "name": "stdout",
     "output_type": "stream",
     "text": [
      "umair-------\n",
      "umair***************\n"
     ]
    }
   ],
   "source": [
    "# it will return the left justified of string with the fill character\n",
    "\n",
    "w = \"umair\"\n",
    "x = w.ljust(12,\"-\")\n",
    "print(x)\n",
    "\n",
    "w = \"umair\"\n",
    "x = w.ljust(20,\"*\")\n",
    "print(x)"
   ]
  },
  {
   "cell_type": "markdown",
   "metadata": {},
   "source": [
    "lower"
   ]
  },
  {
   "cell_type": "code",
   "execution_count": 13,
   "metadata": {},
   "outputs": [
    {
     "name": "stdout",
     "output_type": "stream",
     "text": [
      "umair\n",
      "umair\n"
     ]
    }
   ],
   "source": [
    "#return the string in lower case\n",
    "y = \"UMAIR\"\n",
    "print(y.lower())\n",
    "\n",
    "y = \"UMaIR\"\n",
    "print(y.lower())"
   ]
  },
  {
   "cell_type": "markdown",
   "metadata": {},
   "source": [
    "lstrip\n"
   ]
  },
  {
   "cell_type": "code",
   "execution_count": 20,
   "metadata": {},
   "outputs": [
    {
     "name": "stdout",
     "output_type": "stream",
     "text": [
      "Bee      \n",
      "Bee-----\n"
     ]
    }
   ],
   "source": [
    "# this will return the string with the character removed or changed as per user\n",
    "z = \"      Bee      \"\n",
    "#print(z.lstrip(), \"!\")\n",
    "print(z.lstrip())     \n",
    "z = \"-----Bee-----\"\n",
    "print(z.lstrip(\"-\"))"
   ]
  },
  {
   "cell_type": "markdown",
   "metadata": {},
   "source": [
    "maketrans"
   ]
  },
  {
   "cell_type": "code",
   "execution_count": 26,
   "metadata": {},
   "outputs": [
    {
     "name": "stdout",
     "output_type": "stream",
     "text": [
      "1234256782\n",
      "1351234256782382\n"
     ]
    }
   ],
   "source": [
    "# it will transform the string from to a new string values... secret code typething :) \n",
    "frm = \"SecrtCod\"\n",
    "to = \"12345678\"\n",
    "trans_table = str.maketrans(frm, to)\n",
    "secret_code = \"SecretCode\".translate(trans_table)\n",
    "secret_code1 = \"SctSecretCodecde\".translate(trans_table)\n",
    "print(secret_code)\n",
    "print(secret_code1)"
   ]
  },
  {
   "cell_type": "markdown",
   "metadata": {},
   "source": [
    "partition"
   ]
  },
  {
   "cell_type": "code",
   "execution_count": 32,
   "metadata": {},
   "outputs": [
    {
     "name": "stdout",
     "output_type": "stream",
     "text": [
      "('Python', '-', 'program')\n",
      "('Python-program', '', '')\n"
     ]
    }
   ],
   "source": [
    "# samaj nhi ayi is ki\n",
    "\n",
    "aa = \"Python-program\"\n",
    "print(aa.partition(\"-\"))\n",
    "print(aa.partition(\".\"))"
   ]
  },
  {
   "cell_type": "markdown",
   "metadata": {},
   "source": [
    "replace"
   ]
  },
  {
   "cell_type": "code",
   "execution_count": 34,
   "metadata": {},
   "outputs": [
    {
     "name": "stdout",
     "output_type": "stream",
     "text": [
      "Coffee bag. Coffee cup. Coffee leaves.\n",
      "Coffee bag. Coffee cup. Tea leaves.\n"
     ]
    }
   ],
   "source": [
    "# it ill replace the string ith the string ord proided and also we can control upto hat index we can change\n",
    "\n",
    "bb = \"Tea bag. Tea cup. Tea leaves.\"\n",
    "print(bb.replace(\"Tea\", \"Coffee\"))\n",
    "print(bb.replace(\"Tea\", \"Coffee\", 2))"
   ]
  },
  {
   "cell_type": "markdown",
   "metadata": {},
   "source": [
    "rfind"
   ]
  },
  {
   "cell_type": "code",
   "execution_count": 36,
   "metadata": {},
   "outputs": [
    {
     "name": "stdout",
     "output_type": "stream",
     "text": [
      "0\n",
      "8\n",
      "10\n",
      "9\n",
      "-1\n",
      "-1\n",
      "-1\n"
     ]
    }
   ],
   "source": [
    "# it will return the index value of the string and show negative if it not found in it\n",
    "\n",
    "cc = \"Yes Fitness\"\n",
    "print(cc.rfind(\"Y\"))\n",
    "print(cc.rfind(\"e\"))\n",
    "print(cc.rfind(\"s\"))\n",
    "print(cc.rfind(\"ss\"))\n",
    "print(cc.rfind(\"y\"))\n",
    "print(cc.rfind(\"z\"))\n",
    "print(cc.rfind(\"Home\"))"
   ]
  },
  {
   "cell_type": "markdown",
   "metadata": {},
   "source": [
    "rindex"
   ]
  },
  {
   "cell_type": "code",
   "execution_count": 40,
   "metadata": {},
   "outputs": [
    {
     "name": "stdout",
     "output_type": "stream",
     "text": [
      "0\n",
      "8\n",
      "10\n",
      "9\n"
     ]
    },
    {
     "ename": "ValueError",
     "evalue": "substring not found",
     "output_type": "error",
     "traceback": [
      "\u001b[1;31m---------------------------------------------------------------------------\u001b[0m",
      "\u001b[1;31mValueError\u001b[0m                                Traceback (most recent call last)",
      "\u001b[1;32m<ipython-input-40-4eee4db794ab>\u001b[0m in \u001b[0;36m<module>\u001b[1;34m()\u001b[0m\n\u001b[0;32m      5\u001b[0m \u001b[0mprint\u001b[0m\u001b[1;33m(\u001b[0m\u001b[0mdd\u001b[0m\u001b[1;33m.\u001b[0m\u001b[0mrindex\u001b[0m\u001b[1;33m(\u001b[0m\u001b[1;34m\"s\"\u001b[0m\u001b[1;33m)\u001b[0m\u001b[1;33m)\u001b[0m\u001b[1;33m\u001b[0m\u001b[0m\n\u001b[0;32m      6\u001b[0m \u001b[0mprint\u001b[0m\u001b[1;33m(\u001b[0m\u001b[0mdd\u001b[0m\u001b[1;33m.\u001b[0m\u001b[0mrindex\u001b[0m\u001b[1;33m(\u001b[0m\u001b[1;34m\"ss\"\u001b[0m\u001b[1;33m)\u001b[0m\u001b[1;33m)\u001b[0m\u001b[1;33m\u001b[0m\u001b[0m\n\u001b[1;32m----> 7\u001b[1;33m \u001b[0mprint\u001b[0m\u001b[1;33m(\u001b[0m\u001b[0mdd\u001b[0m\u001b[1;33m.\u001b[0m\u001b[0mrindex\u001b[0m\u001b[1;33m(\u001b[0m\u001b[1;34m\"y\"\u001b[0m\u001b[1;33m)\u001b[0m\u001b[1;33m)\u001b[0m\u001b[1;33m\u001b[0m\u001b[0m\n\u001b[0m\u001b[0;32m      8\u001b[0m \u001b[0mprint\u001b[0m\u001b[1;33m(\u001b[0m\u001b[0mdd\u001b[0m\u001b[1;33m.\u001b[0m\u001b[0mrindex\u001b[0m\u001b[1;33m(\u001b[0m\u001b[1;34m\"z\"\u001b[0m\u001b[1;33m)\u001b[0m\u001b[1;33m)\u001b[0m\u001b[1;33m\u001b[0m\u001b[0m\n\u001b[0;32m      9\u001b[0m \u001b[0mprint\u001b[0m\u001b[1;33m(\u001b[0m\u001b[0mdd\u001b[0m\u001b[1;33m.\u001b[0m\u001b[0mrindex\u001b[0m\u001b[1;33m(\u001b[0m\u001b[1;34m\"Home\"\u001b[0m\u001b[1;33m)\u001b[0m\u001b[1;33m)\u001b[0m\u001b[1;33m\u001b[0m\u001b[0m\n",
      "\u001b[1;31mValueError\u001b[0m: substring not found"
     ]
    }
   ],
   "source": [
    "# its like rfind but it will show error when the string is not foung\n",
    "dd = \"Yes Fitness\"\n",
    "print(dd.rindex(\"Y\"))\n",
    "print(dd.rindex(\"e\"))\n",
    "print(dd.rindex(\"s\"))\n",
    "print(dd.rindex(\"ss\"))\n",
    "print(dd.rindex(\"y\"))\n",
    "print(dd.rindex(\"z\"))\n",
    "print(dd.rindex(\"Home\"))"
   ]
  },
  {
   "cell_type": "markdown",
   "metadata": {},
   "source": [
    "rjust"
   ]
  },
  {
   "cell_type": "code",
   "execution_count": 41,
   "metadata": {},
   "outputs": [
    {
     "name": "stdout",
     "output_type": "stream",
     "text": [
      "*******umair\n"
     ]
    }
   ],
   "source": [
    "# it will return string right justified\n",
    "\n",
    "ee = \"umair\"\n",
    "print(ee.rjust(12, \"*\"))"
   ]
  },
  {
   "cell_type": "markdown",
   "metadata": {},
   "source": [
    "rpartition"
   ]
  },
  {
   "cell_type": "code",
   "execution_count": 43,
   "metadata": {},
   "outputs": [
    {
     "name": "stdout",
     "output_type": "stream",
     "text": [
      "('Homer-Jay', '-', 'Simpson')\n",
      "('', '', 'Homer-Jay-Simpson')\n"
     ]
    }
   ],
   "source": [
    "# phir sa a gaya...\n",
    "\n",
    "ff = \"Homer-Jay-Simpson\"\n",
    "print(ff.rpartition(\"-\"))\n",
    "print(ff.rpartition(\".\"))"
   ]
  },
  {
   "cell_type": "markdown",
   "metadata": {},
   "source": [
    "rsplit"
   ]
  },
  {
   "cell_type": "code",
   "execution_count": 55,
   "metadata": {},
   "outputs": [
    {
     "name": "stdout",
     "output_type": "stream",
     "text": [
      "['Homer', 'Jay', 'Simpson']\n",
      "['Homer-Jay', 'Simpson']\n"
     ]
    }
   ],
   "source": [
    "#it will return th words in the strings , and it will convert those which are after a seperator\n",
    "gg = \"Homer Jay Simpson\"\n",
    "print(gg.rsplit())\n",
    "gg = \"Homer-Jay-Simpson\"\n",
    "print(gg.rsplit(sep=\"-\",maxsplit=1))"
   ]
  },
  {
   "cell_type": "markdown",
   "metadata": {},
   "source": [
    "rstrip"
   ]
  },
  {
   "cell_type": "code",
   "execution_count": 69,
   "metadata": {},
   "outputs": [
    {
     "name": "stdout",
     "output_type": "stream",
     "text": [
      "   Umair\n",
      "-----Umair   !\n"
     ]
    }
   ],
   "source": [
    "# return a copy of the string with the trailing sharacter removed\n",
    "\n",
    "hh = \"   Umair   \"\n",
    "print(hh.rstrip())\n",
    "\n",
    "hh = \"-----Umair   !\"\n",
    "print(hh.rstrip(\"-\"))\n"
   ]
  },
  {
   "cell_type": "markdown",
   "metadata": {},
   "source": [
    "split"
   ]
  },
  {
   "cell_type": "code",
   "execution_count": 76,
   "metadata": {},
   "outputs": [
    {
     "name": "stdout",
     "output_type": "stream",
     "text": [
      "['Homer', 'Jay', 'Simpson']\n",
      "['Homer', 'Jay-Simpson']\n",
      "['Homer', '', 'Bart', '']\n",
      "['Homer', ',Bart']\n",
      "['Homer', 'Bart', 'Marge']\n"
     ]
    }
   ],
   "source": [
    "#return words in a sting seperated by a \n",
    "\n",
    "jj = \"Homer Jay Simpson\"\n",
    "print(jj.split())\n",
    "jj = \"Homer-Jay-Simpson\"\n",
    "print(jj.split(sep=\"-\",maxsplit=1))\n",
    "jj = \"Homer,,Bart,\"\n",
    "print(jj.split(\",\"))\n",
    "jj = \"Homer,,Bart\"\n",
    "print(jj.split(\",\", maxsplit=1))\n",
    "jj = \"Homer<>Bart<>Marge\"\n",
    "print(jj.split(\"<>\"))"
   ]
  },
  {
   "cell_type": "markdown",
   "metadata": {},
   "source": [
    "splitlines"
   ]
  },
  {
   "cell_type": "code",
   "execution_count": 77,
   "metadata": {},
   "outputs": [
    {
     "name": "stdout",
     "output_type": "stream",
     "text": [
      "['Tea', '', 'and coffee', 'cups']\n",
      "['Tea\\n', '\\n', 'and coffee\\r', 'cups\\r\\n']\n"
     ]
    }
   ],
   "source": [
    "# it ill return a list in the strings\n",
    "\n",
    "kk = \"Tea\\n\\nand coffee\\rcups\\r\\n\"\n",
    "print(kk.splitlines())\n",
    "print(kk.splitlines(keepends=True))"
   ]
  },
  {
   "cell_type": "markdown",
   "metadata": {},
   "source": [
    "startwith"
   ]
  },
  {
   "cell_type": "code",
   "execution_count": 78,
   "metadata": {},
   "outputs": [
    {
     "name": "stdout",
     "output_type": "stream",
     "text": [
      "True\n",
      "False\n",
      "True\n",
      "False\n",
      "True\n"
     ]
    }
   ],
   "source": [
    "# it will return the string start with the specified prefix by displaying true and  vice versa\n",
    "\n",
    "ll = \"Umairr\"\n",
    "print(ll.startswith(\"U\"))\n",
    "print(ll.startswith(\"u\"))\n",
    "print(ll.startswith(\"Umair\"))\n",
    "print(ll.startswith(\"z\"))\n",
    "print(ll.startswith(\"ma\", 1, 3))"
   ]
  },
  {
   "cell_type": "markdown",
   "metadata": {},
   "source": [
    "strip"
   ]
  },
  {
   "cell_type": "code",
   "execution_count": 83,
   "metadata": {},
   "outputs": [
    {
     "name": "stdout",
     "output_type": "stream",
     "text": [
      "Umair !\n",
      "Umair\n",
      "Umair\n"
     ]
    }
   ],
   "source": [
    "#it will remove the character and return the string\n",
    "\n",
    "mm = \"      Umair      \"\n",
    "print(mm.strip(), \"!\")\n",
    "print(mm.strip())\n",
    "mm = \"-----Umair-----\"\n",
    "print(mm.strip(\"-\"))"
   ]
  },
  {
   "cell_type": "markdown",
   "metadata": {},
   "source": [
    "swapcase"
   ]
  },
  {
   "cell_type": "code",
   "execution_count": 85,
   "metadata": {},
   "outputs": [
    {
     "name": "stdout",
     "output_type": "stream",
     "text": [
      "umAIR miRZA\n",
      "123\n"
     ]
    }
   ],
   "source": [
    "# it will change the case of the string but no effect on the numbers\n",
    "\n",
    "nn = \"UMair MIrza\"\n",
    "print(nn.swapcase())\n",
    "\n",
    "nn = \"123\"\n",
    "print(nn.swapcase())"
   ]
  },
  {
   "cell_type": "markdown",
   "metadata": {},
   "source": [
    "title\n"
   ]
  },
  {
   "cell_type": "code",
   "execution_count": 89,
   "metadata": {},
   "outputs": [
    {
     "name": "stdout",
     "output_type": "stream",
     "text": [
      "M Umair Mirza\n"
     ]
    }
   ],
   "source": [
    "# it will capitair the firt letter of the word into capital\n",
    "oo = \"m umair mirza\"\n",
    "print(oo.title())"
   ]
  },
  {
   "cell_type": "markdown",
   "metadata": {},
   "source": [
    "translate"
   ]
  },
  {
   "cell_type": "code",
   "execution_count": 90,
   "metadata": {},
   "outputs": [
    {
     "name": "stdout",
     "output_type": "stream",
     "text": [
      "1234256782\n"
     ]
    }
   ],
   "source": [
    "# secret stuff\n",
    "frm = \"SecrtCod\"\n",
    "to = \"12345678\"\n",
    "trans_table = str.maketrans(frm, to)\n",
    "secret_code = \"SecretCode\".translate(trans_table)\n",
    "print(secret_code)"
   ]
  },
  {
   "cell_type": "markdown",
   "metadata": {},
   "source": [
    "upper"
   ]
  },
  {
   "cell_type": "code",
   "execution_count": 92,
   "metadata": {},
   "outputs": [
    {
     "name": "stdout",
     "output_type": "stream",
     "text": [
      "UMAIR\n"
     ]
    }
   ],
   "source": [
    "pp = \"umair\"\n",
    "\n",
    "print(pp.upper())"
   ]
  },
  {
   "cell_type": "markdown",
   "metadata": {},
   "source": [
    "zfill"
   ]
  },
  {
   "cell_type": "code",
   "execution_count": 93,
   "metadata": {},
   "outputs": [
    {
     "name": "stdout",
     "output_type": "stream",
     "text": [
      "00036\n",
      "-0036\n",
      "+0036\n"
     ]
    }
   ],
   "source": [
    "# it will return the with the ascii filled digit\n",
    "\n",
    "qq = \"36\"\n",
    "print(qq.zfill(5))\n",
    "qq = \"-36\"\n",
    "print(qq.zfill(5))\n",
    "qq = \"+36\"\n",
    "print(qq.zfill(5))"
   ]
  },
  {
   "cell_type": "code",
   "execution_count": null,
   "metadata": {},
   "outputs": [],
   "source": []
  }
 ],
 "metadata": {
  "kernelspec": {
   "display_name": "Python 3",
   "language": "python",
   "name": "python3"
  },
  "language_info": {
   "codemirror_mode": {
    "name": "ipython",
    "version": 3
   },
   "file_extension": ".py",
   "mimetype": "text/x-python",
   "name": "python",
   "nbconvert_exporter": "python",
   "pygments_lexer": "ipython3",
   "version": "3.7.0"
  }
 },
 "nbformat": 4,
 "nbformat_minor": 2
}
